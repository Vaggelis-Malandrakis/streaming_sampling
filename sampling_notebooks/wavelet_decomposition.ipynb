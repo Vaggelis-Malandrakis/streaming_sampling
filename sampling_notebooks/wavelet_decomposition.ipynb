{
 "cells": [
  {
   "cell_type": "code",
   "execution_count": 25,
   "id": "f3db12e5",
   "metadata": {},
   "outputs": [],
   "source": [
    "import pywt\n",
    "import random\n",
    "import time\n",
    "import numpy as np"
   ]
  },
  {
   "cell_type": "code",
   "execution_count": 26,
   "id": "8a52e713",
   "metadata": {},
   "outputs": [],
   "source": [
    "N = 100\n",
    "idx = 0\n",
    "res_list = []"
   ]
  },
  {
   "cell_type": "code",
   "execution_count": 27,
   "id": "afb7b48b",
   "metadata": {},
   "outputs": [],
   "source": [
    "for _ in range(N):\n",
    "    res_list.append(np.sin(idx))\n",
    "    idx += 0.1"
   ]
  },
  {
   "cell_type": "code",
   "execution_count": 28,
   "id": "4141ada5",
   "metadata": {},
   "outputs": [],
   "source": [
    "# x = [random.randint(0,100) for _ in range(N)]"
   ]
  },
  {
   "cell_type": "code",
   "execution_count": 29,
   "id": "940b4b96",
   "metadata": {},
   "outputs": [],
   "source": [
    "# start = time.time()\n",
    "# coeffs=pywt.wavedec(x, 'db1', level = 25, mode = 'periodic')\n",
    "# print(time.time() - start)"
   ]
  },
  {
   "cell_type": "code",
   "execution_count": 32,
   "id": "342a999a",
   "metadata": {},
   "outputs": [
    {
     "name": "stdout",
     "output_type": "stream",
     "text": [
      "0.0009207725524902344\n"
     ]
    }
   ],
   "source": [
    "start = time.time()\n",
    "coeffs=pywt.wavedec(res_list, 'db1', level = 4, mode = 'periodic')\n",
    "print(time.time() - start)"
   ]
  },
  {
   "cell_type": "code",
   "execution_count": 33,
   "id": "f79ae186",
   "metadata": {},
   "outputs": [
    {
     "data": {
      "text/plain": [
       "[array([ 2.44590758,  2.55296232, -2.59499814, -2.4014169 ,  2.7352386 ,\n",
       "         2.24168158,  0.49891188]),\n",
       " array([-1.11004408,  1.06608495,  1.04778574, -1.12727464, -0.98195398,\n",
       "         1.18461981, -0.83695162]),\n",
       " array([-0.52456048, -0.2281058 ,  0.20671479,  0.51614497,  0.51248853,\n",
       "         0.19796343, -0.23664363, -0.52770584, -0.49866877, -0.16714591,\n",
       "         0.26576541,  0.537467  , -0.65906785]),\n",
       " array([-0.19717806, -0.17000814, -0.11599767, -0.04367372,  0.03554535,\n",
       "         0.10915259,  0.16552704,  0.1957684 ,  0.19510225,  0.16363373,\n",
       "         0.10633105,  0.03224103, -0.04693913, -0.11870864, -0.17173667,\n",
       "        -0.19765125, -0.19236105, -0.15670126, -0.09630179, -0.02069839,\n",
       "         0.05817283,  0.12785985,  0.1773606 ,  0.19886002,  0.18896381]),\n",
       " array([-0.07059289, -0.06848391, -0.0636447 , -0.05626817, -0.04664841,\n",
       "        -0.03516893, -0.02228737, -0.00851728,  0.00559236,  0.01947905,\n",
       "         0.03258918,  0.04440008,  0.05444088,  0.0623113 ,  0.06769757,\n",
       "         0.07038495,  0.0702663 ,  0.06734635,  0.06174152,  0.05367525,\n",
       "         0.04346912,  0.03153001,  0.0183339 ,  0.00440687, -0.00969585,\n",
       "        -0.02341202, -0.03619483, -0.04753466, -0.05697944, -0.06415263,\n",
       "        -0.06876825, -0.0706423 , -0.06970007, -0.06597911, -0.05962778,\n",
       "        -0.05089927, -0.04014157, -0.02778356, -0.0143179 , -0.00028143,\n",
       "         0.01376626,  0.02726513,  0.03967703,  0.05050713,  0.05932367,\n",
       "         0.06577516,  0.0696044 ,  0.07065874,  0.06889613,  0.06438686])]"
      ]
     },
     "execution_count": 33,
     "metadata": {},
     "output_type": "execute_result"
    }
   ],
   "source": [
    "coeffs"
   ]
  },
  {
   "cell_type": "code",
   "execution_count": null,
   "id": "f0e19fac",
   "metadata": {},
   "outputs": [],
   "source": []
  }
 ],
 "metadata": {
  "kernelspec": {
   "display_name": "Python 3 (ipykernel)",
   "language": "python",
   "name": "python3"
  },
  "language_info": {
   "codemirror_mode": {
    "name": "ipython",
    "version": 3
   },
   "file_extension": ".py",
   "mimetype": "text/x-python",
   "name": "python",
   "nbconvert_exporter": "python",
   "pygments_lexer": "ipython3",
   "version": "3.10.4"
  }
 },
 "nbformat": 4,
 "nbformat_minor": 5
}
