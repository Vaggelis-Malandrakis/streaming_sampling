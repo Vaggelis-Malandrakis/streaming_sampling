{
 "cells": [
  {
   "cell_type": "code",
   "execution_count": 1,
   "id": "578c2146",
   "metadata": {},
   "outputs": [],
   "source": [
    "import numpy as np\n",
    "import time"
   ]
  },
  {
   "cell_type": "code",
   "execution_count": 2,
   "id": "a60b5379",
   "metadata": {},
   "outputs": [],
   "source": [
    "#how it would like in receiver \n",
    "stream = True\n",
    "res = []\n",
    "res_size = 10\n",
    "loc_max = -1000**1000\n",
    "loc_min = 1000**1000\n",
    "\n",
    "stream_val = 2\n",
    "stream_weight = 1\n",
    "\n",
    "i = 0\n",
    "while stream:\n",
    "    if i < res_size:\n",
    "        key = np.random.rand()**(1/stream_weight)\n",
    "        res += [(key,stream_val)]\n",
    "    else:\n",
    "        res_keys = [k for k,v in res]\n",
    "        thresh = min(res_keys)\n",
    "        min_ind = res_keys.index(thresh)\n",
    "        key = np.random.rand()**(1/stream_weight)\n",
    "        if key > thresh:\n",
    "            res[min_ind] = (key,stream_val)\n",
    "    i += 1\n",
    "    stream = False"
   ]
  },
  {
   "cell_type": "code",
   "execution_count": 3,
   "id": "6c74047e",
   "metadata": {},
   "outputs": [],
   "source": [
    "#test code \n",
    "stream = True\n",
    "res = []\n",
    "res_size = 10\n",
    "loc_max = -1000**1000\n",
    "loc_min = 1000**1000\n",
    "\n",
    "stream_val = [i for i in np.random.rand(20)]\n",
    "\n",
    "i = 0\n",
    "while stream:\n",
    "    if i < res_size:\n",
    "        key = np.random.rand()**(1/stream_val[i])\n",
    "        res += [(key,stream_val[i])]\n",
    "    else:\n",
    "        res_keys = [k for k,v in res]\n",
    "        thresh = min(res_keys)\n",
    "        min_ind = res_keys.index(thresh)\n",
    "        key = np.random.rand()**(1/stream_val[i])\n",
    "        if key > thresh:\n",
    "            res[min_ind] = (key,stream_val[i])\n",
    "        if stream_val[i] < loc_min:\n",
    "            loc_min = stream_val[i]\n",
    "        if stream_val[i] > loc_max:\n",
    "            loc_max = stream_val[i]\n",
    "    i += 1\n",
    "    if i == 20:\n",
    "        stream = False"
   ]
  },
  {
   "cell_type": "code",
   "execution_count": 4,
   "id": "fa343dd6",
   "metadata": {},
   "outputs": [],
   "source": [
    "res_val = [v for k,v in res]"
   ]
  },
  {
   "cell_type": "code",
   "execution_count": null,
   "id": "fae7421b",
   "metadata": {},
   "outputs": [],
   "source": []
  }
 ],
 "metadata": {
  "kernelspec": {
   "display_name": "Python 3",
   "language": "python",
   "name": "python3"
  },
  "language_info": {
   "codemirror_mode": {
    "name": "ipython",
    "version": 3
   },
   "file_extension": ".py",
   "mimetype": "text/x-python",
   "name": "python",
   "nbconvert_exporter": "python",
   "pygments_lexer": "ipython3",
   "version": "3.8.8"
  }
 },
 "nbformat": 4,
 "nbformat_minor": 5
}
