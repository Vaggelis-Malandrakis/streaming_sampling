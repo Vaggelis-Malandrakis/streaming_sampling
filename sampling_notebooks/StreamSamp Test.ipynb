{
 "cells": [
  {
   "cell_type": "code",
   "execution_count": 43,
   "id": "3a316ec7",
   "metadata": {},
   "outputs": [],
   "source": [
    "import numpy as np\n",
    "import random\n",
    "import matplotlib.pyplot as plt"
   ]
  },
  {
   "cell_type": "code",
   "execution_count": 44,
   "id": "258eb297",
   "metadata": {},
   "outputs": [],
   "source": [
    "def stream_samp(samps: dict, order: int, L: int):\n",
    "    if len(samps[order]) > L:\n",
    "        hi_ord = order+1\n",
    "        if hi_ord not in samps:\n",
    "            samps[hi_ord] = []\n",
    "        samp1 = samps[order].pop(0)\n",
    "        samp2 = samps[order].pop(0)\n",
    "        re_samp = random.sample(samp1, int(len(samp1)/2))\n",
    "        re_samp += random.sample(samp2, int(len(samp2)/2))\n",
    "        samps[hi_ord].append(re_samp)\n",
    "        samps = stream_samp(samps, hi_ord, L)\n",
    "    return samps"
   ]
  },
  {
   "cell_type": "code",
   "execution_count": 45,
   "id": "fa091f5d",
   "metadata": {},
   "outputs": [],
   "source": [
    "stream_lim = 10000\n",
    "values = [i+1 for i in range(stream_lim)]"
   ]
  },
  {
   "cell_type": "code",
   "execution_count": 46,
   "id": "bdd45ecd",
   "metadata": {},
   "outputs": [],
   "source": [
    "stream = True\n",
    "alpha = 0.15\n",
    "L = 5\n",
    "T = 10\n",
    "\n",
    "samps = {0:[[]]}\n",
    "\n",
    "i = 0\n",
    "\n",
    "while stream:\n",
    "    if np.random.rand() < alpha:\n",
    "        samps[0][-1].append(values[i])\n",
    "        if len(samps[0][-1]) > T:\n",
    "            samps[0].append([])\n",
    "            samps[0][-1].append(samps[0][-2].pop())\n",
    "            samps = stream_samp(samps, 0, L)\n",
    "    i+=1\n",
    "    if i == stream_lim:\n",
    "        stream = False"
   ]
  },
  {
   "cell_type": "code",
   "execution_count": 47,
   "id": "c2ab76a0",
   "metadata": {},
   "outputs": [
    {
     "data": {
      "image/png": "[encoded data removed]",
      "text/plain": [
       "<Figure size 432x288 with 1 Axes>"
      ]
     },
     "metadata": {
      "needs_background": "light"
     },
     "output_type": "display_data"
    }
   ],
   "source": [
    "samp_list = []\n",
    "\n",
    "prob_dist = []\n",
    "\n",
    "for k,v in samps.items():\n",
    "    for i in range(len(samps[k])):\n",
    "        samp_list += samps[k][i]\n",
    "        prob_dist += [2**k]*len(samps[k][i])\n",
    "            \n",
    "prob_dist = [i/sum(prob_dist) for i in prob_dist]\n",
    "\n",
    "fin_res = np.random.choice(samp_list, size=25, replace=False,p=prob_dist)\n",
    "_ = plt.scatter(fin_res,fin_res)"
   ]
  }
 ],
 "metadata": {
  "kernelspec": {
   "display_name": "Python 3",
   "language": "python",
   "name": "python3"
  },
  "language_info": {
   "codemirror_mode": {
    "name": "ipython",
    "version": 3
   },
   "file_extension": ".py",
   "mimetype": "text/x-python",
   "name": "python",
   "nbconvert_exporter": "python",
   "pygments_lexer": "ipython3",
   "version": "3.8.8"
  }
 },
 "nbformat": 4,
 "nbformat_minor": 5
}
