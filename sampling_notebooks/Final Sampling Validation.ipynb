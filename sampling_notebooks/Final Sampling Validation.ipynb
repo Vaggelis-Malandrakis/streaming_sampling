{
 "cells": [
  {
   "cell_type": "code",
   "execution_count": 1,
   "id": "dc020937",
   "metadata": {},
   "outputs": [],
   "source": [
    "import numpy as np\n",
    "import pandas as pd\n",
    "import matplotlib.pyplot as plt\n",
    "import matplotlib.dates as mdates\n",
    "import datetime\n",
    "from tslearn.clustering import TimeSeriesKMeans\n",
    "from jenkspy import jenks_breaks\n",
    "import random"
   ]
  },
  {
   "cell_type": "markdown",
   "id": "fa5fcc0c",
   "metadata": {},
   "source": [
    "### Read in Data"
   ]
  },
  {
   "cell_type": "code",
   "execution_count": 2,
   "id": "da2dced7",
   "metadata": {},
   "outputs": [],
   "source": [
    "df = pd.read_csv('data13to17Feb2018.csv')\n",
    "df = df[['Time', 'Length']]\n",
    "df['Time'] = pd.to_datetime(df['Time'], format='%Y-%m-%d %H:%M:%S.%f')\n",
    "df = df[df['Time'] > datetime.datetime(2017,1,1)]"
   ]
  },
  {
   "cell_type": "markdown",
   "id": "88abfa18",
   "metadata": {},
   "source": [
    "### Select Sample Size"
   ]
  },
  {
   "cell_type": "code",
   "execution_count": 3,
   "id": "62c1a036",
   "metadata": {},
   "outputs": [],
   "source": [
    "spl_len = 30\n",
    "spl_val = int(len(df)/spl_len)\n",
    "splits = [0]\n",
    "for i in range(spl_len-1):\n",
    "    splits += [splits[i]+spl_val] "
   ]
  },
  {
   "cell_type": "markdown",
   "id": "64af2993",
   "metadata": {},
   "source": [
    "# Initial Clustering set-up"
   ]
  },
  {
   "cell_type": "code",
   "execution_count": 4,
   "id": "80ed5a2e",
   "metadata": {},
   "outputs": [],
   "source": [
    "def put_to_cluster(value, lims):\n",
    "    cluster_index = 0\n",
    "    for i in range(1,len(lims)):\n",
    "        upper = lims[i]\n",
    "        if value <= upper:\n",
    "            return cluster_index\n",
    "        cluster_index += 1\n",
    "    return len(lims) - 1"
   ]
  },
  {
   "cell_type": "code",
   "execution_count": 5,
   "id": "e4e8440d",
   "metadata": {},
   "outputs": [],
   "source": [
    "def goodness_of_variance_fit(array, classes):\n",
    "    # get the break points\n",
    "    classes = jenks_breaks(array, classes)\n",
    "\n",
    "    # do the actual classification\n",
    "    classified = np.array([put_to_cluster(i, classes) for i in array])\n",
    "\n",
    "    # max value of zones\n",
    "    maxz = max(classified)\n",
    "\n",
    "    # nested list of zone indices\n",
    "    zone_indices = [[idx for idx, val in enumerate(classified) if zone + 1 == val] for zone in range(maxz)]\n",
    "\n",
    "    # sum of squared deviations from array mean\n",
    "    sdam = np.sum((array - array.mean()) ** 2)\n",
    "\n",
    "    # sorted polygon stats\n",
    "    array_sort = [np.array([array[index] for index in zone]) for zone in zone_indices]\n",
    "\n",
    "    # sum of squared deviations of class means\n",
    "    sdcm = sum([np.sum((classified - classified.mean()) ** 2) for classified in array_sort])\n",
    "\n",
    "    # goodness of variance fit\n",
    "    gvf = (sdam - sdcm) / sdam\n",
    "\n",
    "    return gvf"
   ]
  },
  {
   "cell_type": "markdown",
   "id": "d0a1acc2",
   "metadata": {},
   "source": [
    "# StreamSamp set-up"
   ]
  },
  {
   "cell_type": "code",
   "execution_count": 6,
   "id": "d78853af",
   "metadata": {},
   "outputs": [],
   "source": [
    "def stream_samp(samps: dict, order: int, L: int):\n",
    "    if len(samps[order]) > L:\n",
    "        hi_ord = order+1\n",
    "        if hi_ord not in samps:\n",
    "            samps[hi_ord] = []\n",
    "        samp1 = samps[order].pop(0)\n",
    "        samp2 = samps[order].pop(0)\n",
    "        re_samp = random.sample(samp1, int(len(samp1)/2))\n",
    "        re_samp += random.sample(samp2, int(len(samp2)/2))\n",
    "        samps[hi_ord].append(re_samp)\n",
    "        samps = stream_samp(samps, hi_ord, L)\n",
    "    return samps"
   ]
  },
  {
   "cell_type": "markdown",
   "id": "32d629b2",
   "metadata": {},
   "source": [
    "# Concise Sampling set-up"
   ]
  },
  {
   "cell_type": "code",
   "execution_count": 7,
   "id": "90ea62ad",
   "metadata": {},
   "outputs": [],
   "source": [
    "def concise_sampling(event):\n",
    "    N = len(event)\n",
    "    a = 1.1 # We increase T by 10%\n",
    "    max_size = N / 10\n",
    "\n",
    "    # 1/T = selection probability\n",
    "    T = 1\n",
    "\n",
    "    #// S = Concise Sample\n",
    "    S = {}\n",
    "    S_help = {}\n",
    "    S_help_real_index = {}\n",
    "    len_S = 0\n",
    "\n",
    "    for ev in event:\n",
    "        \n",
    "        real_idx, idx, val = ev.split(\",\")\n",
    "        \n",
    "        t_real_idx = int(real_idx)\n",
    "        try:\n",
    "            t_idx = datetime.datetime.strptime(idx, '%Y-%m-%d %H:%M:%S.%f')\n",
    "        except:\n",
    "            t_idx = datetime.datetime.strptime(idx, '%Y-%m-%d %H:%M:%S')\n",
    "        \n",
    "        t_val = float(val)\n",
    "\n",
    "        if np.random.random() < 1/T:\n",
    "            if t_val in S:\n",
    "                S[t_val] += 1\n",
    "                S_help[t_val].append(t_idx)\n",
    "                S_help_real_index[t_val].append(t_real_idx)\n",
    "            else:\n",
    "                S_help[t_val] = [t_idx]\n",
    "                S_help_real_index[t_val] = [t_real_idx]\n",
    "                S[t_val] = 1\n",
    "            len_S += 1\n",
    "\n",
    "    \n",
    "        # Deletion step, Adjust sample when it gets too large\n",
    "        \n",
    "        if len_S> max_size:\n",
    "            T_prime = a * T\n",
    "            \n",
    "            for s in S:\n",
    "                for _ in range(S[s]):\n",
    "                    if np.random.random() < 1 - T/T_prime:\n",
    "                        S[s] -= 1\n",
    "                        len_S -=1\n",
    "                        if len(S_help[s]) == 1:\n",
    "                            S_help[s].pop(0)\n",
    "                            S_help_real_index[s].pop(0)\n",
    "                        else:\n",
    "                            rnd_metric = np.random.randint(0,len(S_help[s])-1)\n",
    "                            S_help[s].pop(rnd_metric)\n",
    "                            S_help_real_index[s].pop(rnd_metric)\n",
    "            \n",
    "            T = T_prime\n",
    "    \n",
    "    real_idx_list = []\n",
    "    idx_list = []\n",
    "    res_list = []\n",
    "\n",
    "    for s in S:\n",
    "        if S[s] > 0:\n",
    "            for i in range(S[s]):\n",
    "                idx_list.append(S_help[s][i])\n",
    "                real_idx_list.append(S_help_real_index[s][i])\n",
    "                res_list.append(s)\n",
    "\n",
    "    return idx_list, res_list, real_idx_list"
   ]
  },
  {
   "cell_type": "markdown",
   "id": "a8fc275d",
   "metadata": {},
   "source": [
    "# Cluster Validation"
   ]
  },
  {
   "cell_type": "markdown",
   "id": "de033129",
   "metadata": {},
   "source": [
    "### Rand Index, Fowlkes–Mallows Index, Mirkin Metric, Jaccard Index"
   ]
  },
  {
   "cell_type": "code",
   "execution_count": 8,
   "id": "43e11a26",
   "metadata": {},
   "outputs": [],
   "source": [
    "def clus_val(df):\n",
    "    \n",
    "    res = dict()\n",
    "    \n",
    "    df['key1'] = 0\n",
    "    df['key2'] = 0\n",
    "    df['index'] = df.index\n",
    "    cross_joined_df = df.merge(df, left_on='key1', right_on='key2', how='outer')\n",
    "    cross_joined_df = cross_joined_df[['index_x', 'index_y', 'C_cluster_x', 'C_prime_cluster_x', 'C_cluster_y', 'C_prime_cluster_y']]\n",
    "    cross_joined_df = cross_joined_df[cross_joined_df['index_x'] != cross_joined_df['index_y']]\n",
    "    n11 = len(cross_joined_df[(cross_joined_df['C_cluster_x'] == cross_joined_df['C_cluster_y']) \\\n",
    "                      & (cross_joined_df['C_prime_cluster_x'] == cross_joined_df['C_prime_cluster_y'])]) / 2\n",
    "    n00 = len(cross_joined_df[(cross_joined_df['C_cluster_x'] != cross_joined_df['C_cluster_y']) \\\n",
    "                          & (cross_joined_df['C_prime_cluster_x'] != cross_joined_df['C_prime_cluster_y'])]) / 2\n",
    "\n",
    "    n10 = len(cross_joined_df[(cross_joined_df['C_cluster_x'] == cross_joined_df['C_cluster_y']) \\\n",
    "                          & (cross_joined_df['C_prime_cluster_x'] != cross_joined_df['C_prime_cluster_y'])]) / 2\n",
    "\n",
    "    n01 = len(cross_joined_df[(cross_joined_df['C_cluster_x'] != cross_joined_df['C_cluster_y']) \\\n",
    "                          & (cross_joined_df['C_prime_cluster_x'] == cross_joined_df['C_prime_cluster_y'])]) / 2\n",
    "\n",
    "    n = len(sampled_with_sliced_df)\n",
    "    \n",
    "    res['rand_index'] = (2 * (n11 + n00)) / (n * (n - 1))\n",
    "    res['fm_index'] = n11 / np.sqrt((n11+n10)*(n11+n01))\n",
    "    res['mirkin_mettric'] = n*(n-1)*(1-res['rand_index'])\n",
    "    res['jaccard_index'] = n11 / (n11 + n10 + n01)\n",
    "    \n",
    "    return res"
   ]
  },
  {
   "cell_type": "markdown",
   "id": "1b445edd",
   "metadata": {},
   "source": [
    "### F-Measure"
   ]
  },
  {
   "cell_type": "code",
   "execution_count": 9,
   "id": "9ffc1549",
   "metadata": {},
   "outputs": [],
   "source": [
    "def fmeasure(df):\n",
    "    c = dict()\n",
    "    c_new = dict()\n",
    "\n",
    "\n",
    "    for index, row in df.iterrows():\n",
    "        if row['C_cluster'] not in c:\n",
    "            c[row['C_cluster']] = 0\n",
    "        c[row['C_cluster']] = c[row['C_cluster']] + 1\n",
    "        if row['C_prime_cluster'] not in c_new:\n",
    "            c_new[row['C_prime_cluster']] = 0\n",
    "        c_new[row['C_prime_cluster']] = c_new[row['C_prime_cluster']] + 1\n",
    "\n",
    "    f = []\n",
    "    for k,v in c.items():\n",
    "        f += [c[k] * (2 * c[k] * c_new[k])/(c[k] + c_new[k])]\n",
    "    \n",
    "    return sum(f)/len(f)"
   ]
  },
  {
   "cell_type": "markdown",
   "id": "6feed8b0",
   "metadata": {},
   "source": [
    "# Tests"
   ]
  },
  {
   "cell_type": "code",
   "execution_count": 10,
   "id": "83458d5a",
   "metadata": {},
   "outputs": [],
   "source": [
    "clus_val2 = []\n",
    "fm2 = []\n",
    "clus_val3 = []\n",
    "fm3 = []\n",
    "clus_val4 = []\n",
    "fm4 = []"
   ]
  },
  {
   "cell_type": "code",
   "execution_count": 11,
   "id": "bf5dc5c4",
   "metadata": {},
   "outputs": [],
   "source": [
    "import warnings\n",
    "from pandas.core.common import SettingWithCopyWarning\n",
    "\n",
    "warnings.simplefilter(action=\"ignore\", category=SettingWithCopyWarning)"
   ]
  },
  {
   "cell_type": "code",
   "execution_count": 12,
   "id": "84b78cc7",
   "metadata": {},
   "outputs": [],
   "source": [
    "for i in range(len(splits)):\n",
    "    df_n = df[splits[i]:(splits[i] + 10000)]\n",
    "    # initial cluster\n",
    "    gvf = 0.0\n",
    "    nclasses = 2\n",
    "    X = df_n['Length'].to_numpy()\n",
    "    while gvf < 0.9:\n",
    "        gvf = goodness_of_variance_fit(X, nclasses)\n",
    "        nclasses += 1\n",
    "\n",
    "    X = df_n['Length'].to_numpy()\n",
    "\n",
    "    lims = jenks_breaks(X, nclasses)\n",
    "    df_n['C_cluster'] = df_n['Length'].apply(lambda x: put_to_cluster(x, lims))\n",
    "    \n",
    "    #Reservoir Samp\n",
    "    res = []\n",
    "    res_size = len(df_n.index)/10\n",
    "    stream_weight = 1\n",
    "\n",
    "    i = 0\n",
    "    for index, row in df_n.iterrows():\n",
    "        obj = (row['Time'], row['Length'], row['C_cluster'])\n",
    "        if i < res_size:\n",
    "            key = np.random.rand()**(1/stream_weight)\n",
    "            res += [(key,obj)]\n",
    "        else:\n",
    "            res_keys = [k for k,v in res]\n",
    "            thresh = min(res_keys)\n",
    "            min_ind = res_keys.index(thresh)\n",
    "            key = np.random.rand()**(1/stream_weight)\n",
    "            if key > thresh:\n",
    "                res[min_ind] = (key,obj)\n",
    "        i += 1\n",
    "\n",
    "    res_val = [v for k,v in res]\n",
    "    df2 = pd.DataFrame(res_val, columns=['Time', 'Length', 'C_cluster'])\n",
    "    \n",
    "    gvf = 0.0\n",
    "    nclasses = 2\n",
    "    X = df2['Length'].to_numpy()\n",
    "    while gvf < 0.9:\n",
    "        gvf = goodness_of_variance_fit(X, nclasses)\n",
    "        nclasses += 1\n",
    "\n",
    "    lims = jenks_breaks(X, nclasses)\n",
    "    df2['C_prime_cluster'] = df2['Length'].apply(lambda x: put_to_cluster(x, lims))\n",
    "    \n",
    "    #Stream Samp\n",
    "    alpha = 0.15\n",
    "    L = max(int(len(df_n)/50),5)\n",
    "    T = max(int(len(df_n)/500),5)\n",
    "\n",
    "    samps = {0:[[]]}\n",
    "\n",
    "    i = 0\n",
    "    for index, row in df_n.iterrows():\n",
    "        obj = (row['Time'], row['Length'], row['C_cluster'])\n",
    "        if np.random.rand() < alpha:\n",
    "            samps[0][-1].append(obj)\n",
    "            if len(samps[0][-1]) > T:\n",
    "                samps[0].append([])\n",
    "                samps[0][-1].append(samps[0][-2].pop())\n",
    "                samps = stream_samp(samps, 0, L)\n",
    "        i+=1\n",
    "\n",
    "    samp_list = []\n",
    "\n",
    "    prob_dist = []\n",
    "\n",
    "    for k,v in samps.items():\n",
    "        for i in range(len(samps[k])):\n",
    "            samp_list += samps[k][i]\n",
    "            prob_dist += [2**k]*len(samps[k][i])\n",
    "\n",
    "    prob_dist = [i/sum(prob_dist) for i in prob_dist]\n",
    "\n",
    "    fin_ind = np.random.choice([i for i in range(len(samp_list))], size=min(int(len(df_n)/10),len(samp_list)), replace=False,p=prob_dist)\n",
    "    fin_ind = fin_ind.tolist()\n",
    "    fin_samp = [samp_list[i] for i in fin_ind]\n",
    "    df3 = pd.DataFrame(fin_samp, columns=['Time', 'Length', 'C_cluster'])\n",
    "\n",
    "    gvf = 0.0\n",
    "    nclasses = 2\n",
    "    X = df3['Length'].to_numpy()\n",
    "    while gvf < 0.9:\n",
    "        gvf = goodness_of_variance_fit(X, nclasses)\n",
    "        nclasses += 1\n",
    "\n",
    "    lims = jenks_breaks(X, nclasses)\n",
    "    df3['C_prime_cluster'] = df3['Length'].apply(lambda x: put_to_cluster(x, lims))\n",
    "    \n",
    "    #ConciseSampling\n",
    "    event_list = []\n",
    "    for index, row in df_n.iterrows():\n",
    "        event_list.append(str(index) + ',' + str(row['Time']) + ',' + str(row['Length']))\n",
    "        \n",
    "    idx_list, res_list, real_idx_list = concise_sampling(event_list)\n",
    "    sampled_df = pd.DataFrame({'Time':idx_list, 'Length':res_list}, index=real_idx_list)\n",
    "    sampled_with_sliced_df = sampled_df.merge(df_n, how = 'left', left_index=True, right_index=True)\n",
    "    sampled_with_sliced_df = sampled_with_sliced_df[['Time_x','Length_x', 'C_cluster']]\n",
    "    sampled_with_sliced_df.columns = ['Time', 'Length', 'C_cluster']\n",
    "    gvf = 0.0\n",
    "    nclasses = 2\n",
    "    X = sampled_with_sliced_df['Length'].to_numpy()\n",
    "    while gvf < 0.9:\n",
    "        gvf = goodness_of_variance_fit(X, nclasses)\n",
    "        nclasses += 1\n",
    "\n",
    "    lims = jenks_breaks(X, nclasses)\n",
    "\n",
    "    sampled_with_sliced_df['C_prime_cluster'] = sampled_with_sliced_df['Length'].apply(lambda x: put_to_cluster(x, lims))\n",
    "    \n",
    "    #reservoir\n",
    "    if df2['C_cluster'].nunique() == df2['C_prime_cluster'].nunique():\n",
    "        clus_val2 += [clus_val(df2)]\n",
    "        fm2 += [fmeasure(df2)]\n",
    "    else:\n",
    "        clus_val2 += ['Error']\n",
    "        fm2 += ['Error']\n",
    "\n",
    "    #streamsamp\n",
    "    if df3['C_cluster'].nunique() == df3['C_prime_cluster'].nunique():\n",
    "        clus_val3 += [clus_val(df3)]\n",
    "        fm3 += [fmeasure(df3)]\n",
    "    else:\n",
    "        clus_val3 += ['Error']\n",
    "        fm3 += ['Error']\n",
    "    #concise\n",
    "    if sampled_with_sliced_df['C_cluster'].nunique() == sampled_with_sliced_df['C_prime_cluster'].nunique():\n",
    "        clus_val4 += [clus_val(sampled_with_sliced_df)]\n",
    "        fm4 += [fmeasure(sampled_with_sliced_df)]\n",
    "    else:\n",
    "        clus_val4 += ['Error']\n",
    "        fm4 += ['Error']"
   ]
  },
  {
   "cell_type": "code",
   "execution_count": 13,
   "id": "43caf198",
   "metadata": {},
   "outputs": [
    {
     "data": {
      "image/png": "[encoded data removed]",
      "text/plain": [
       "<Figure size 1080x360 with 1 Axes>"
      ]
     },
     "metadata": {
      "needs_background": "light"
     },
     "output_type": "display_data"
    }
   ],
   "source": [
    "fig, axs = plt.subplots(1, 1, constrained_layout=False, figsize=(15, 5))\n",
    "locator = mdates.AutoDateLocator(minticks=10, maxticks=20)\n",
    "formatter = mdates.ConciseDateFormatter(locator)\n",
    "axs.xaxis.set_major_locator(locator)\n",
    "axs.xaxis.set_major_formatter(formatter)\n",
    "\n",
    "df_n.reset_index().groupby('C_cluster').plot(x='Time', y='Length', ax=axs, alpha = 1, linestyle = '-', linewidth = 0, marker = 'o', markersize = 3)\n",
    "axs.get_legend().remove()\n",
    "\n",
    "plt.show()"
   ]
  },
  {
   "cell_type": "code",
   "execution_count": 14,
   "id": "5f96c7c0",
   "metadata": {},
   "outputs": [
    {
     "data": {
      "image/png": "[encoded data removed]",
      "text/plain": [
       "<Figure size 1080x360 with 1 Axes>"
      ]
     },
     "metadata": {
      "needs_background": "light"
     },
     "output_type": "display_data"
    }
   ],
   "source": [
    "fig, axs = plt.subplots(1, 1, constrained_layout=False, figsize=(15, 5))\n",
    "locator = mdates.AutoDateLocator(minticks=10, maxticks=20)\n",
    "formatter = mdates.ConciseDateFormatter(locator)\n",
    "axs.xaxis.set_major_locator(locator)\n",
    "axs.xaxis.set_major_formatter(formatter)\n",
    "\n",
    "df2.reset_index().groupby('C_cluster').plot(x='Time', y='Length', ax=axs, alpha = 1, linestyle = '-', linewidth = 0, marker = 'o', markersize = 3)\n",
    "axs.get_legend().remove()\n",
    "\n",
    "plt.show()"
   ]
  },
  {
   "cell_type": "code",
   "execution_count": 15,
   "id": "de90e378",
   "metadata": {},
   "outputs": [
    {
     "data": {
      "image/png": "[encoded data removed]",
      "text/plain": [
       "<Figure size 1080x360 with 1 Axes>"
      ]
     },
     "metadata": {
      "needs_background": "light"
     },
     "output_type": "display_data"
    }
   ],
   "source": [
    "fig, axs = plt.subplots(1, 1, constrained_layout=False, figsize=(15, 5))\n",
    "locator = mdates.AutoDateLocator(minticks=10, maxticks=20)\n",
    "formatter = mdates.ConciseDateFormatter(locator)\n",
    "axs.xaxis.set_major_locator(locator)\n",
    "axs.xaxis.set_major_formatter(formatter)\n",
    "\n",
    "df2.reset_index().groupby('C_prime_cluster').plot(x='Time', y='Length', ax=axs, alpha = 1, linestyle = '-', linewidth = 0, marker = 'o', markersize = 3)\n",
    "axs.get_legend().remove()\n",
    "\n",
    "plt.show()"
   ]
  },
  {
   "cell_type": "code",
   "execution_count": 16,
   "id": "bd811528",
   "metadata": {},
   "outputs": [
    {
     "data": {
      "image/png": "[encoded data removed]",
      "text/plain": [
       "<Figure size 1080x360 with 1 Axes>"
      ]
     },
     "metadata": {
      "needs_background": "light"
     },
     "output_type": "display_data"
    }
   ],
   "source": [
    "fig, axs = plt.subplots(1, 1, constrained_layout=False, figsize=(15, 5))\n",
    "locator = mdates.AutoDateLocator(minticks=10, maxticks=20)\n",
    "formatter = mdates.ConciseDateFormatter(locator)\n",
    "axs.xaxis.set_major_locator(locator)\n",
    "axs.xaxis.set_major_formatter(formatter)\n",
    "\n",
    "df3.reset_index().groupby('C_cluster').plot(x='Time', y='Length', ax=axs, alpha = 1, linestyle = '-', linewidth = 0, marker = 'o', markersize = 3)\n",
    "axs.get_legend().remove()\n",
    "\n",
    "plt.show()"
   ]
  },
  {
   "cell_type": "code",
   "execution_count": 17,
   "id": "c3fcac11",
   "metadata": {},
   "outputs": [
    {
     "data": {
      "text/plain": [
       "964"
      ]
     },
     "execution_count": 17,
     "metadata": {},
     "output_type": "execute_result"
    }
   ],
   "source": [
    "len(sampled_with_sliced_df)"
   ]
  },
  {
   "cell_type": "code",
   "execution_count": 18,
   "id": "543d7806",
   "metadata": {},
   "outputs": [
    {
     "data": {
      "image/png": "[encoded data removed]",
      "text/plain": [
       "<Figure size 1080x360 with 1 Axes>"
      ]
     },
     "metadata": {
      "needs_background": "light"
     },
     "output_type": "display_data"
    }
   ],
   "source": [
    "fig, axs = plt.subplots(1, 1, constrained_layout=False, figsize=(15, 5))\n",
    "locator = mdates.AutoDateLocator(minticks=10, maxticks=20)\n",
    "formatter = mdates.ConciseDateFormatter(locator)\n",
    "axs.xaxis.set_major_locator(locator)\n",
    "axs.xaxis.set_major_formatter(formatter)\n",
    "\n",
    "df3.reset_index().groupby('C_prime_cluster').plot(x='Time', y='Length', ax=axs, alpha = 1, linestyle = '-', linewidth = 0, marker = 'o', markersize = 3)\n",
    "axs.get_legend().remove()\n",
    "\n",
    "plt.show()"
   ]
  },
  {
   "cell_type": "code",
   "execution_count": 19,
   "id": "f7a25f5c",
   "metadata": {},
   "outputs": [
    {
     "data": {
      "image/png": "[encoded data removed]",
      "text/plain": [
       "<Figure size 1080x360 with 1 Axes>"
      ]
     },
     "metadata": {
      "needs_background": "light"
     },
     "output_type": "display_data"
    }
   ],
   "source": [
    "fig, axs = plt.subplots(1, 1, constrained_layout=False, figsize=(15, 5))\n",
    "locator = mdates.AutoDateLocator(minticks=10, maxticks=20)\n",
    "formatter = mdates.ConciseDateFormatter(locator)\n",
    "axs.xaxis.set_major_locator(locator)\n",
    "axs.xaxis.set_major_formatter(formatter)\n",
    "\n",
    "sampled_with_sliced_df.reset_index().groupby('C_cluster').plot(x='Time', y='Length', ax=axs, alpha = 1, linestyle = '-', linewidth = 0, marker = 'o', markersize = 3)\n",
    "axs.get_legend().remove()\n",
    "\n",
    "plt.show()"
   ]
  },
  {
   "cell_type": "code",
   "execution_count": 20,
   "id": "915ea9b5",
   "metadata": {},
   "outputs": [
    {
     "data": {
      "image/png": "[encoded data removed]",
      "text/plain": [
       "<Figure size 1080x360 with 1 Axes>"
      ]
     },
     "metadata": {
      "needs_background": "light"
     },
     "output_type": "display_data"
    }
   ],
   "source": [
    "# check the sampled dataset\n",
    "sampled_with_sliced_df.head()\n",
    "fig, axs = plt.subplots(1, 1, constrained_layout=False, figsize=(15, 5))\n",
    "locator = mdates.AutoDateLocator(minticks=10, maxticks=20)\n",
    "formatter = mdates.ConciseDateFormatter(locator)\n",
    "axs.xaxis.set_major_locator(locator)\n",
    "axs.xaxis.set_major_formatter(formatter)\n",
    "\n",
    "sampled_with_sliced_df.reset_index().groupby('C_prime_cluster').plot(x='Time', y='Length', ax=axs, alpha = 1, linestyle = '-', linewidth = 0, marker = 'o', markersize = 3)\n",
    "axs.get_legend().remove()\n",
    "\n",
    "plt.show()"
   ]
  },
  {
   "cell_type": "code",
   "execution_count": 21,
   "id": "d9b0d743",
   "metadata": {},
   "outputs": [],
   "source": [
    "ri2 = 0\n",
    "mm2 = 0\n",
    "jc2 = 0\n",
    "fm_val2 = 0\n",
    "fmeas2 = 0\n",
    "count2 = 0\n",
    "\n",
    "ri3 = 0\n",
    "mm3 = 0\n",
    "jc3 = 0\n",
    "fm_val3 = 0\n",
    "fmeas3 = 0\n",
    "count3 = 0\n",
    "\n",
    "ri4 = 0\n",
    "mm4 = 0\n",
    "jc4 = 0\n",
    "fm_val4 = 0\n",
    "fmeas4 = 0\n",
    "count4 = 0\n",
    "\n",
    "\n",
    "for i in range(len(clus_val2)):\n",
    "    if clus_val2[i] != \"Error\":\n",
    "        ri2 += clus_val2[i]['rand_index']\n",
    "        mm2 += clus_val2[i]['mirkin_mettric']\n",
    "        jc2 += clus_val2[i]['jaccard_index']\n",
    "        fm_val2 = clus_val2[i]['fm_index']\n",
    "        count2 += 1\n",
    "        fmeas2 += fm2[i]\n",
    "    if clus_val3[i] != \"Error\":\n",
    "        ri3 += clus_val3[i]['rand_index']\n",
    "        mm3 += clus_val3[i]['mirkin_mettric']\n",
    "        jc3 += clus_val3[i]['jaccard_index']\n",
    "        fm_val3 = clus_val3[i]['fm_index']\n",
    "        count3 += 1\n",
    "        fmeas3 += fm3[i]\n",
    "    if clus_val4[i] != \"Error\":\n",
    "        ri4 += clus_val4[i]['rand_index']\n",
    "        mm4 += clus_val4[i]['mirkin_mettric']\n",
    "        jc4 += clus_val4[i]['jaccard_index']\n",
    "        fm_val4 = clus_val4[i]['fm_index']  \n",
    "        count4 += 1\n",
    "        fmeas4 += fm4[i]"
   ]
  },
  {
   "cell_type": "code",
   "execution_count": 22,
   "id": "1441c564",
   "metadata": {},
   "outputs": [
    {
     "name": "stdout",
     "output_type": "stream",
     "text": [
      "Avg Rand Index for Reservoir:\n",
      "1.1201011865671664\n",
      "Avg Mirkin Metric for Reservoir:\n",
      "-103527.0\n",
      "Avg Jaccard Index for Reservoir:\n",
      "0.9904444798721439\n",
      "Avg FM Index for Reservoir:\n",
      "0.038461538461538464\n",
      "Avg F-Measure for Reservoir:\n",
      "188587.97978557047\n",
      "Error Count for Reservoir:\n",
      "4\n"
     ]
    }
   ],
   "source": [
    "print('Avg Rand Index for Reservoir:')\n",
    "print(ri2/count2)\n",
    "print('Avg Mirkin Metric for Reservoir:')\n",
    "print(mm2/count2)\n",
    "print('Avg Jaccard Index for Reservoir:')\n",
    "print(jc2/count2)\n",
    "print('Avg FM Index for Reservoir:')\n",
    "print(fm_val2/count2)\n",
    "print('Avg F-Measure for Reservoir:')\n",
    "print(fmeas2/count2)\n",
    "print('Error Count for Reservoir:')\n",
    "print(len(splits) - count2)"
   ]
  },
  {
   "cell_type": "code",
   "execution_count": 25,
   "id": "2473c572",
   "metadata": {},
   "outputs": [
    {
     "data": {
      "text/plain": [
       "[{'rand_index': 1.1298348174835158,\n",
       "  'fm_index': 0.9978293706951273,\n",
       "  'mirkin_mettric': -114600.00000000003,\n",
       "  'jaccard_index': 0.9956679778917492},\n",
       " {'rand_index': 1.163790391914278,\n",
       "  'fm_index': 1.0,\n",
       "  'mirkin_mettric': -140598.0000000001,\n",
       "  'jaccard_index': 1.0},\n",
       " {'rand_index': 1.1587821535948926,\n",
       "  'fm_index': 1.0,\n",
       "  'mirkin_mettric': -136888.00000000003,\n",
       "  'jaccard_index': 1.0},\n",
       " {'rand_index': 1.0919321624847522,\n",
       "  'fm_index': 1.0,\n",
       "  'mirkin_mettric': -84107.99999999993,\n",
       "  'jaccard_index': 1.0},\n",
       " {'rand_index': 1.1786857385639429,\n",
       "  'fm_index': 0.9998174786263626,\n",
       "  'mirkin_mettric': -151404.0000000001,\n",
       "  'jaccard_index': 0.9996350027110306},\n",
       " {'rand_index': 1.0077490066024286,\n",
       "  'fm_index': 0.998651136100191,\n",
       "  'mirkin_mettric': -7663.999999999968,\n",
       "  'jaccard_index': 0.9973051491984396},\n",
       " {'rand_index': 1.1790114714629656,\n",
       "  'fm_index': 1.0,\n",
       "  'mirkin_mettric': -151680.0,\n",
       "  'jaccard_index': 1.0},\n",
       " {'rand_index': 1.1790114714629656,\n",
       "  'fm_index': 1.0,\n",
       "  'mirkin_mettric': -151680.0,\n",
       "  'jaccard_index': 1.0},\n",
       " {'rand_index': 1.1591247256630584,\n",
       "  'fm_index': 0.9979635842592097,\n",
       "  'mirkin_mettric': -136887.9999999999,\n",
       "  'jaccard_index': 0.9959352264315405},\n",
       " 'Error',\n",
       " {'rand_index': 1.199910736903053,\n",
       "  'fm_index': 0.996717534003764,\n",
       "  'mirkin_mettric': -165728.0,\n",
       "  'jaccard_index': 0.9934521633056896},\n",
       " {'rand_index': 1.1226987096788719,\n",
       "  'fm_index': 0.9987893088912398,\n",
       "  'mirkin_mettric': -108993.99999999996,\n",
       "  'jaccard_index': 0.9975802571759609},\n",
       " {'rand_index': 1.0040140461464555,\n",
       "  'fm_index': 1.0,\n",
       "  'mirkin_mettric': -3994.000000000109,\n",
       "  'jaccard_index': 1.0},\n",
       " 'Error',\n",
       " 'Error',\n",
       " {'rand_index': 1.1841515714011392,\n",
       "  'fm_index': 1.0,\n",
       "  'mirkin_mettric': -155357.9999999999,\n",
       "  'jaccard_index': 1.0},\n",
       " 'Error',\n",
       " {'rand_index': 1.0556637327869027,\n",
       "  'fm_index': 0.9955210174029478,\n",
       "  'mirkin_mettric': -52428.00000000007,\n",
       "  'jaccard_index': 0.9910811497767442},\n",
       " {'rand_index': 1.0177406011581946,\n",
       "  'fm_index': 0.9983295854163536,\n",
       "  'mirkin_mettric': -17369.99999999996,\n",
       "  'jaccard_index': 0.9966631355932203},\n",
       " {'rand_index': 1.182415604329668,\n",
       "  'fm_index': 0.9949452919194173,\n",
       "  'mirkin_mettric': -153223.99999999994,\n",
       "  'jaccard_index': 0.9899411093895688},\n",
       " {'rand_index': 1.1252579911844953,\n",
       "  'fm_index': 0.9858138009648322,\n",
       "  'mirkin_mettric': -110090.00000000004,\n",
       "  'jaccard_index': 0.9720175659422114},\n",
       " {'rand_index': 0.9963651025775274,\n",
       "  'fm_index': 0.993522352490234,\n",
       "  'mirkin_mettric': 3624.00000000001,\n",
       "  'jaccard_index': 0.9871246404426449},\n",
       " {'rand_index': 1.0965128914353452,\n",
       "  'fm_index': 1.0,\n",
       "  'mirkin_mettric': -87930.0,\n",
       "  'jaccard_index': 1.0},\n",
       " {'rand_index': 1.2157100403776369,\n",
       "  'fm_index': 1.0,\n",
       "  'mirkin_mettric': -177258.00000000006,\n",
       "  'jaccard_index': 1.0},\n",
       " {'rand_index': 1.0478993116508677,\n",
       "  'fm_index': 0.9871681134195188,\n",
       "  'mirkin_mettric': -45022.00000000007,\n",
       "  'jaccard_index': 0.974600695009456},\n",
       " {'rand_index': 1.2026803054245425,\n",
       "  'fm_index': 0.9980764151894821,\n",
       "  'mirkin_mettric': -168024.0,\n",
       "  'jaccard_index': 0.9961600062502441},\n",
       " {'rand_index': 1.091665401902983,\n",
       "  'fm_index': 0.9338195235312724,\n",
       "  'mirkin_mettric': -78516.00000000009,\n",
       "  'jaccard_index': 0.8747197880578765},\n",
       " {'rand_index': 1.1020930619488658,\n",
       "  'fm_index': 0.9948139743733324,\n",
       "  'mirkin_mettric': -92041.99999999997,\n",
       "  'jaccard_index': 0.989672609499366},\n",
       " {'rand_index': 1.1538061744222308,\n",
       "  'fm_index': 1.0,\n",
       "  'mirkin_mettric': -133170.00000000006,\n",
       "  'jaccard_index': 1.0},\n",
       " {'rand_index': 1.0761236281847442,\n",
       "  'fm_index': 1.0,\n",
       "  'mirkin_mettric': -70667.99999999991,\n",
       "  'jaccard_index': 1.0}]"
      ]
     },
     "execution_count": 25,
     "metadata": {},
     "output_type": "execute_result"
    }
   ],
   "source": [
    "clus_val2"
   ]
  },
  {
   "cell_type": "code",
   "execution_count": 23,
   "id": "efbb3442",
   "metadata": {},
   "outputs": [
    {
     "name": "stdout",
     "output_type": "stream",
     "text": [
      "Avg Rand Index for StreamSamp:\n",
      "1.1170790591104132\n",
      "Avg Mirkin Metric for StreamSamp:\n",
      "-101410.88\n",
      "Avg Jaccard Index for StreamSamp:\n",
      "0.9953562892099188\n",
      "Avg FM Index for StreamSamp:\n",
      "0.03990863189925118\n",
      "Avg F-Measure for StreamSamp:\n",
      "202423.63956184118\n",
      "Error Count for StreamSamp:\n",
      "5\n"
     ]
    }
   ],
   "source": [
    "print('Avg Rand Index for StreamSamp:')\n",
    "print(ri3/count3)\n",
    "print('Avg Mirkin Metric for StreamSamp:')\n",
    "print(mm3/count3)\n",
    "print('Avg Jaccard Index for StreamSamp:')\n",
    "print(jc3/count3)\n",
    "print('Avg FM Index for StreamSamp:')\n",
    "print(fm_val3/count3)\n",
    "print('Avg F-Measure for StreamSamp:')\n",
    "print(fmeas3/count3)\n",
    "print('Error Count for StreamSamp:')\n",
    "print(len(splits) - count3)"
   ]
  },
  {
   "cell_type": "code",
   "execution_count": 24,
   "id": "42ab8499",
   "metadata": {},
   "outputs": [
    {
     "name": "stdout",
     "output_type": "stream",
     "text": [
      "Avg Rand Index for Concise:\n",
      "0.986878176176638\n",
      "Avg Mirkin Metric for Concise:\n",
      "11067.250000000007\n",
      "Avg Jaccard Index for Concise:\n",
      "0.9796935188832401\n",
      "Avg FM Index for Concise:\n",
      "0.041666666666666664\n",
      "Avg F-Measure for Concise:\n",
      "175806.83575489558\n",
      "Error Count for Concise:\n",
      "6\n"
     ]
    }
   ],
   "source": [
    "print('Avg Rand Index for Concise:')\n",
    "print(ri4/count4)\n",
    "print('Avg Mirkin Metric for Concise:')\n",
    "print(mm4/count4)\n",
    "print('Avg Jaccard Index for Concise:')\n",
    "print(jc4/count4)\n",
    "print('Avg FM Index for Concise:')\n",
    "print(fm_val4/count4)\n",
    "print('Avg F-Measure for Concise:')\n",
    "print(fmeas4/count4)\n",
    "print('Error Count for Concise:')\n",
    "print(len(splits) - count4)"
   ]
  }
 ],
 "metadata": {
  "kernelspec": {
   "display_name": "Python 3",
   "language": "python",
   "name": "python3"
  },
  "language_info": {
   "codemirror_mode": {
    "name": "ipython",
    "version": 3
   },
   "file_extension": ".py",
   "mimetype": "text/x-python",
   "name": "python",
   "nbconvert_exporter": "python",
   "pygments_lexer": "ipython3",
   "version": "3.8.8"
  }
 },
 "nbformat": 4,
 "nbformat_minor": 5
}
