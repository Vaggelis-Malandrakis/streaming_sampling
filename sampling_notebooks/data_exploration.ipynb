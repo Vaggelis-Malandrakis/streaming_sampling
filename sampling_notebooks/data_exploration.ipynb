{
 "cells": [
  {
   "cell_type": "code",
   "execution_count": 60,
   "id": "2fd77205",
   "metadata": {},
   "outputs": [],
   "source": [
    "import pandas as pd\n",
    "import glob\n",
    "import os"
   ]
  },
  {
   "cell_type": "code",
   "execution_count": 85,
   "id": "5a3b31d8",
   "metadata": {},
   "outputs": [],
   "source": [
    "path = '../data/data13to17Feb2018.csv'\n",
    "df = pd.read_csv(path, usecols=['Time', 'Source', 'Destination', 'Protocol', 'Length']).dropna()"
   ]
  },
  {
   "cell_type": "code",
   "execution_count": 86,
   "id": "bc2926fb",
   "metadata": {},
   "outputs": [
    {
     "data": {
      "text/html": [
       "<div>\n",
       "<style scoped>\n",
       "    .dataframe tbody tr th:only-of-type {\n",
       "        vertical-align: middle;\n",
       "    }\n",
       "\n",
       "    .dataframe tbody tr th {\n",
       "        vertical-align: top;\n",
       "    }\n",
       "\n",
       "    .dataframe thead th {\n",
       "        text-align: right;\n",
       "    }\n",
       "</style>\n",
       "<table border=\"1\" class=\"dataframe\">\n",
       "  <thead>\n",
       "    <tr style=\"text-align: right;\">\n",
       "      <th></th>\n",
       "      <th>Time</th>\n",
       "      <th>Source</th>\n",
       "      <th>Destination</th>\n",
       "      <th>Protocol</th>\n",
       "      <th>Length</th>\n",
       "    </tr>\n",
       "  </thead>\n",
       "  <tbody>\n",
       "    <tr>\n",
       "      <th>0</th>\n",
       "      <td>2019-02-13 02:13:38.346809</td>\n",
       "      <td>10.1.10.1</td>\n",
       "      <td>104.36.224.141</td>\n",
       "      <td>SSL</td>\n",
       "      <td>152</td>\n",
       "    </tr>\n",
       "    <tr>\n",
       "      <th>1</th>\n",
       "      <td>2019-02-13 02:13:38.347297</td>\n",
       "      <td>104.36.224.141</td>\n",
       "      <td>10.1.10.1</td>\n",
       "      <td>TCP</td>\n",
       "      <td>40</td>\n",
       "    </tr>\n",
       "    <tr>\n",
       "      <th>2</th>\n",
       "      <td>2019-02-13 02:13:38.678841</td>\n",
       "      <td>104.36.224.141</td>\n",
       "      <td>10.1.10.1</td>\n",
       "      <td>SSL</td>\n",
       "      <td>88</td>\n",
       "    </tr>\n",
       "    <tr>\n",
       "      <th>3</th>\n",
       "      <td>2019-02-13 02:13:38.679018</td>\n",
       "      <td>10.1.10.1</td>\n",
       "      <td>104.36.224.141</td>\n",
       "      <td>TCP</td>\n",
       "      <td>40</td>\n",
       "    </tr>\n",
       "    <tr>\n",
       "      <th>4</th>\n",
       "      <td>2019-02-13 02:16:38.390502</td>\n",
       "      <td>10.1.10.1</td>\n",
       "      <td>104.36.224.141</td>\n",
       "      <td>TCP</td>\n",
       "      <td>152</td>\n",
       "    </tr>\n",
       "  </tbody>\n",
       "</table>\n",
       "</div>"
      ],
      "text/plain": [
       "                         Time          Source     Destination Protocol  Length\n",
       "0  2019-02-13 02:13:38.346809       10.1.10.1  104.36.224.141      SSL     152\n",
       "1  2019-02-13 02:13:38.347297  104.36.224.141       10.1.10.1      TCP      40\n",
       "2  2019-02-13 02:13:38.678841  104.36.224.141       10.1.10.1      SSL      88\n",
       "3  2019-02-13 02:13:38.679018       10.1.10.1  104.36.224.141      TCP      40\n",
       "4  2019-02-13 02:16:38.390502       10.1.10.1  104.36.224.141      TCP     152"
      ]
     },
     "execution_count": 86,
     "metadata": {},
     "output_type": "execute_result"
    }
   ],
   "source": [
    "df.head()"
   ]
  },
  {
   "cell_type": "code",
   "execution_count": 91,
   "id": "95c2bb3d",
   "metadata": {},
   "outputs": [
    {
     "data": {
      "text/html": [
       "<div>\n",
       "<style scoped>\n",
       "    .dataframe tbody tr th:only-of-type {\n",
       "        vertical-align: middle;\n",
       "    }\n",
       "\n",
       "    .dataframe tbody tr th {\n",
       "        vertical-align: top;\n",
       "    }\n",
       "\n",
       "    .dataframe thead th {\n",
       "        text-align: right;\n",
       "    }\n",
       "</style>\n",
       "<table border=\"1\" class=\"dataframe\">\n",
       "  <thead>\n",
       "    <tr style=\"text-align: right;\">\n",
       "      <th></th>\n",
       "      <th>Time</th>\n",
       "      <th>Source</th>\n",
       "      <th>Destination</th>\n",
       "      <th>Protocol</th>\n",
       "      <th>Length</th>\n",
       "    </tr>\n",
       "  </thead>\n",
       "  <tbody>\n",
       "    <tr>\n",
       "      <th>1866799</th>\n",
       "      <td>1970-01-05 03:18:44.000040</td>\n",
       "      <td>a01:a01:959a:a75c:cee0:1bb:e414:cb7f</td>\n",
       "      <td>5ea0:239f:5010:277:59f5:0:c7d9:685c</td>\n",
       "      <td>RSVP-E2EI</td>\n",
       "      <td>671088709</td>\n",
       "    </tr>\n",
       "    <tr>\n",
       "      <th>1866801</th>\n",
       "      <td>1970-01-05 04:57:05.000040</td>\n",
       "      <td>a01:a01:959a:a75c:cee0:1bb:e414:cb7f</td>\n",
       "      <td>5ea0:25ab:5010:280:57e0:0:c7d9:685c</td>\n",
       "      <td>RSVP-E2EI</td>\n",
       "      <td>671088709</td>\n",
       "    </tr>\n",
       "    <tr>\n",
       "      <th>1866802</th>\n",
       "      <td>1970-01-05 12:13:15.000410</td>\n",
       "      <td>a01:a01:959a:a75c:cee0:1bb:e414:cb7f</td>\n",
       "      <td>5ea0:25ab:5018:280:636b:0:c42b:600</td>\n",
       "      <td>SCTP</td>\n",
       "      <td>2583756869</td>\n",
       "    </tr>\n",
       "    <tr>\n",
       "      <th>1866804</th>\n",
       "      <td>1970-01-04 19:02:43.000177</td>\n",
       "      <td>a01:a01:959a:a75c:cee0:1bb:e414:ccf1</td>\n",
       "      <td>5ea0:25ab:5018:280:c207:0:22e0:d292</td>\n",
       "      <td>IPv6</td>\n",
       "      <td>2969567301</td>\n",
       "    </tr>\n",
       "    <tr>\n",
       "      <th>1866805</th>\n",
       "      <td>1970-01-07 12:09:56.000177</td>\n",
       "      <td>a01:a01:959a:a75c:cee0:1bb:e414:ccf1</td>\n",
       "      <td>5ea0:25ab:5018:280:c207:0:22e0:d292</td>\n",
       "      <td>IPv6</td>\n",
       "      <td>2969567301</td>\n",
       "    </tr>\n",
       "  </tbody>\n",
       "</table>\n",
       "</div>"
      ],
      "text/plain": [
       "                               Time                                Source  \\\n",
       "1866799  1970-01-05 03:18:44.000040  a01:a01:959a:a75c:cee0:1bb:e414:cb7f   \n",
       "1866801  1970-01-05 04:57:05.000040  a01:a01:959a:a75c:cee0:1bb:e414:cb7f   \n",
       "1866802  1970-01-05 12:13:15.000410  a01:a01:959a:a75c:cee0:1bb:e414:cb7f   \n",
       "1866804  1970-01-04 19:02:43.000177  a01:a01:959a:a75c:cee0:1bb:e414:ccf1   \n",
       "1866805  1970-01-07 12:09:56.000177  a01:a01:959a:a75c:cee0:1bb:e414:ccf1   \n",
       "\n",
       "                                 Destination   Protocol      Length  \n",
       "1866799  5ea0:239f:5010:277:59f5:0:c7d9:685c  RSVP-E2EI   671088709  \n",
       "1866801  5ea0:25ab:5010:280:57e0:0:c7d9:685c  RSVP-E2EI   671088709  \n",
       "1866802   5ea0:25ab:5018:280:636b:0:c42b:600       SCTP  2583756869  \n",
       "1866804  5ea0:25ab:5018:280:c207:0:22e0:d292       IPv6  2969567301  \n",
       "1866805  5ea0:25ab:5018:280:c207:0:22e0:d292       IPv6  2969567301  "
      ]
     },
     "execution_count": 91,
     "metadata": {},
     "output_type": "execute_result"
    }
   ],
   "source": [
    "df.tail()"
   ]
  },
  {
   "cell_type": "code",
   "execution_count": 96,
   "id": "f1a343ec",
   "metadata": {},
   "outputs": [
    {
     "data": {
      "text/plain": [
       "Time           1866781\n",
       "Source         1866781\n",
       "Destination    1866781\n",
       "Protocol       1866781\n",
       "Length         1866781\n",
       "dtype: int64"
      ]
     },
     "execution_count": 96,
     "metadata": {},
     "output_type": "execute_result"
    }
   ],
   "source": [
    "df.count()"
   ]
  },
  {
   "cell_type": "code",
   "execution_count": 88,
   "id": "124b5de6",
   "metadata": {},
   "outputs": [
    {
     "data": {
      "text/plain": [
       "Time           1866781\n",
       "Source            1435\n",
       "Destination       1455\n",
       "Protocol            26\n",
       "Length            6895\n",
       "dtype: int64"
      ]
     },
     "execution_count": 88,
     "metadata": {},
     "output_type": "execute_result"
    }
   ],
   "source": [
    "df.nunique()"
   ]
  },
  {
   "cell_type": "code",
   "execution_count": 95,
   "id": "a7e956b1",
   "metadata": {},
   "outputs": [
    {
     "data": {
      "text/plain": [
       "count       1866781\n",
       "unique         1455\n",
       "top       10.1.10.1\n",
       "freq        1221779\n",
       "Name: Destination, dtype: object"
      ]
     },
     "execution_count": 95,
     "metadata": {},
     "output_type": "execute_result"
    }
   ],
   "source": [
    "df['Destination'].describe()"
   ]
  },
  {
   "cell_type": "code",
   "execution_count": null,
   "id": "eb199ac2",
   "metadata": {},
   "outputs": [],
   "source": []
  }
 ],
 "metadata": {
  "kernelspec": {
   "display_name": "Python 3 (ipykernel)",
   "language": "python",
   "name": "python3"
  },
  "language_info": {
   "codemirror_mode": {
    "name": "ipython",
    "version": 3
   },
   "file_extension": ".py",
   "mimetype": "text/x-python",
   "name": "python",
   "nbconvert_exporter": "python",
   "pygments_lexer": "ipython3",
   "version": "3.8.13"
  }
 },
 "nbformat": 4,
 "nbformat_minor": 5
}
